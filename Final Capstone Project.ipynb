{
    "cells": [
        {
            "cell_type": "markdown",
            "metadata": {
                "collapsed": true
            },
            "source": "# Introduction to Business Problem "
        },
        {
            "cell_type": "markdown",
            "metadata": {},
            "source": "### I'm looking to move to Bay County Michigan in the near future and looking to open up a Ice Cream shop somewhere near by in Bay County, this would be a joint venture with a few others. Some of the other stakeholders already have ideas in regards to locations but they are not backed by data or research. The intent of the work here is to take a unbiased approach to locate potential areas with the high \"foot traffic\" required for an ice cream shop to be succeful. The intent of this analysis is to segment different location based on other near by veneus, we will consider the following while doing this analysis."
        },
        {
            "cell_type": "markdown",
            "metadata": {},
            "source": "### \"The most important factor to consider when you are selecting a location for your ice cream business is customer convenience.\" (KaleidoScoops Inc., 2014). Per KaleidoScoop good high traffic areas should include parks, schools, shopping centers, and restaurants.  "
        },
        {
            "cell_type": "markdown",
            "metadata": {},
            "source": "### \"The average time that a consumer is willing to travel to a local business is 17 minutes and this has little change depending on age groups.\" (Marchant, 2014). "
        },
        {
            "cell_type": "markdown",
            "metadata": {},
            "source": "# Data"
        },
        {
            "cell_type": "markdown",
            "metadata": {},
            "source": "### We will be using the latitiude and longitude of a number of cities, charter townships, townships and unincorporated communities all located in the Bay County area. This informaiton will put together manually from Various Wikipdeia pages, an example is below.\n\n#### Name: Essexville\n#### Longitude:43\u00b036\u203241\u2033N \n#### Latitude:83\u00b050\u203237\u2033W\n\n### For the purposes of this analysis we will use a radius of 13 miles for a set of coordinates. This number is derived assuming a driving speed of 45 miles per hour (45 miles per 60 minutes), taking 17 minutes (ideal travel time for local business) and dividing by 60 we get  .283333, we can then take this number and times it by 45 miles to get a distance of 12.75 miles which we will  round up  to 13.\n\n### Lastly we will be using four square data to pull different venues in the area, this venue information will be used to determine near by location that could be good for foot traffic. The data retreived from frou square will be like the following format.\n\n#### Venue: Jack's Market\t\n#### Longitude:43.653447\t\n#### Latitude:-79.362017\t\n#### Category: Grocery Store\n\n\n\n"
        },
        {
            "cell_type": "markdown",
            "metadata": {},
            "source": "# References"
        },
        {
            "cell_type": "markdown",
            "metadata": {},
            "source": "KaleidoScoops Inc., (2014, November 17). How To Find The Perfect Location For An Ice Cream Business\n    https://www.kalscoops.com/how-to-find-the-perfect-location-for-an-ice-cream-business/#:~:text=Placing%20yourself%20in%20a%20high,for%20their%20favorite%20cold%20flavors"
        },
        {
            "cell_type": "markdown",
            "metadata": {},
            "source": "Marchant, R. (2014, May 1). Consumers will Travel 17 Minutes to Reach a Local Business. Bright Ideas Blog.\nhttps://www.brightlocal.com/research/local-business-travel-times/"
        },
        {
            "cell_type": "code",
            "execution_count": null,
            "metadata": {},
            "outputs": [],
            "source": ""
        }
    ],
    "metadata": {
        "kernelspec": {
            "display_name": "Python 3.7",
            "language": "python",
            "name": "python3"
        },
        "language_info": {
            "codemirror_mode": {
                "name": "ipython",
                "version": 3
            },
            "file_extension": ".py",
            "mimetype": "text/x-python",
            "name": "python",
            "nbconvert_exporter": "python",
            "pygments_lexer": "ipython3",
            "version": "3.7.10"
        }
    },
    "nbformat": 4,
    "nbformat_minor": 1
}